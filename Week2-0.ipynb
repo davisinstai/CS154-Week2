{
 "cells": [
  {
   "cell_type": "code",
   "execution_count": null,
   "metadata": {
    "editable": true,
    "slideshow": {
     "slide_type": "skip"
    },
    "tags": []
   },
   "outputs": [],
   "source": [
    "# This allows me to display the notebook as slides.\n",
    "import mercury as mr\n",
    " \n",
    "app = mr.App(title=\"Week 2-0\", description=\"Conditionals\", show_code = True)"
   ]
  },
  {
   "cell_type": "markdown",
   "metadata": {
    "editable": true,
    "slideshow": {
     "slide_type": "slide"
    },
    "tags": []
   },
   "source": [
    "# The Key Terms for Friday\n",
    "\n",
    "* boolean\n",
    "* comparison operator\n",
    "* boolean operator"
   ]
  },
  {
   "cell_type": "markdown",
   "metadata": {
    "editable": true,
    "jp-MarkdownHeadingCollapsed": true,
    "slideshow": {
     "slide_type": "slide"
    },
    "tags": []
   },
   "source": [
    "# Booleans"
   ]
  },
  {
   "cell_type": "markdown",
   "metadata": {
    "editable": true,
    "slideshow": {
     "slide_type": "subslide"
    },
    "tags": []
   },
   "source": [
    "\n",
    "So far we have learned about three basic python data types: **integer**, **floating point number** and **string**. But we have also learned about ```==``` and ```!=```, which return ```True``` or ```False```. The values ```True``` and ```False``` are the only values that are part of the python data type **boolean**.\n",
    "\n",
    "You can create a boolean just by typing it in a code cell. In the code cell below, type ```True```."
   ]
  },
  {
   "cell_type": "code",
   "execution_count": null,
   "metadata": {
    "editable": true,
    "slideshow": {
     "slide_type": "fragment"
    },
    "tags": []
   },
   "outputs": [],
   "source": [
    "# Type True\n"
   ]
  },
  {
   "cell_type": "markdown",
   "metadata": {
    "editable": true,
    "slideshow": {
     "slide_type": "fragment"
    },
    "tags": []
   },
   "source": [
    "Notice that it has to be capitalized. Go back and try typing ```true```. What happens?"
   ]
  },
  {
   "cell_type": "markdown",
   "metadata": {
    "editable": true,
    "slideshow": {
     "slide_type": "subslide"
    },
    "tags": []
   },
   "source": [
    "You can also assign a variable to a boolean value. In the code cell below, assign the value ```False``` to the variable ```my_boolean```."
   ]
  },
  {
   "cell_type": "code",
   "execution_count": null,
   "metadata": {
    "editable": true,
    "slideshow": {
     "slide_type": "fragment"
    },
    "tags": []
   },
   "outputs": [],
   "source": [
    "# Assign False to the variable my_boolean\n",
    "\n",
    "# Print my_boolean"
   ]
  },
  {
   "cell_type": "markdown",
   "metadata": {
    "editable": true,
    "slideshow": {
     "slide_type": "subslide"
    },
    "tags": []
   },
   "source": [
    "Because ```True``` and ```False``` are values of the **boolean** data type built into python, you cannot use them as variable names. Try running the code cell below:"
   ]
  },
  {
   "cell_type": "code",
   "execution_count": null,
   "metadata": {
    "editable": true,
    "slideshow": {
     "slide_type": "fragment"
    },
    "tags": []
   },
   "outputs": [],
   "source": [
    "# The boolean values  ```True``` and  ```False``` cannot be used for variable names. \n",
    "True = 7"
   ]
  },
  {
   "cell_type": "markdown",
   "metadata": {
    "editable": true,
    "slideshow": {
     "slide_type": "subslide"
    },
    "tags": []
   },
   "source": [
    "Although you *can* use ```true``` and ```false``` as variable names (not the capitalization!), we don't recommend it. Your code will be confusing."
   ]
  },
  {
   "cell_type": "markdown",
   "metadata": {
    "editable": true,
    "jp-MarkdownHeadingCollapsed": true,
    "slideshow": {
     "slide_type": "slide"
    },
    "tags": []
   },
   "source": [
    "# Comparison Operators"
   ]
  },
  {
   "cell_type": "markdown",
   "metadata": {
    "editable": true,
    "slideshow": {
     "slide_type": "subslide"
    },
    "tags": []
   },
   "source": [
    "\n",
    "Now that we have a way to store integers, floats, strings and booleans in variables, we can use **comparison operators** to make decisions based on those values. An **expression** that uses a **comparison operator** will return a **boolean** value."
   ]
  },
  {
   "cell_type": "markdown",
   "metadata": {
    "editable": true,
    "slideshow": {
     "slide_type": "fragment"
    },
    "tags": []
   },
   "source": [
    "\n",
    "Question:\n",
    "* *You already know two comparison operators. What are they?*"
   ]
  },
  {
   "cell_type": "markdown",
   "metadata": {
    "editable": true,
    "slideshow": {
     "slide_type": "subslide"
    },
    "tags": []
   },
   "source": [
    "Here is a list of comparison operators:\n",
    "* ```==``` (equals)\n",
    "* ```!=``` (not equal)\n",
    "* ```<```\n",
    "* ```>```\n",
    "* ```<=```\n",
    "* ```>=``` \n",
    "\n",
    "Use the code cell below to try them out by writing expressions using the operands specified in the tables. Fill in the definitions of the operators in the list above (I did the first two for you!). In the table below, fill in *either* the boolean value returned from evaluating each expression, *or* \"error\" if evaluating the expression gives you an exception (error).\n",
    "\n",
    " |    Operator |    Left operand |    Right operand |    Return value |    \n",
    " |    --- |    --- |    ----- |    ---- |    \n",
    " |    ==  |    1 |    1 |        |    \n",
    " |    == |    1 |    1.0 |       |\n",
    " |    == |    1 |    2.0 |       |\n",
    " |    == |    1 |    'one' |       |\n",
    " |    == |    1 |    True |       |\n",
    " |    == |    1.0 | 2.0 |         |\n",
    " |    == |    'one' | 'one' |         |\n",
    " |    == |    'one' | 'two' |         |\n",
    " |    == |    'one' | True |         |\n",
    " |    == |    True | True |         |\n",
    " |    != |    1 |    2.0 |       |\n",
    " |    != |    1 |    'one' |       | \n",
    " |    != |    1 |    True |       |\n",
    " |    != |    1.0 | 2.0 |         |\n",
    " |    != |    'one' | 'one' |         |\n",
    " |    != |    'one' | 'two' |         |\n",
    " |    != |    'one' | True |         |\n",
    " |    != |    True | True |         |\n",
    " |    != |    True | False |         |\n",
    " |    < |    1 |    2 |       |\n",
    " |    < |    1 |    'one' |       |\n",
    " |    < |    1 |    True |       |\n",
    " |    < |    1.0 | 2.0 |         |\n",
    " |    < |    'one' | 'two' |         |\n",
    " |    < |    'one' | True |         |\n",
    " |    < |    True | True |         |\n",
    " |    < |    True | False |         |\n",
    " |    > |    1 |    2 |       |\n",
    " |    > |    1 |    'one' |       |\n",
    " |    > |    1 |    True |       |\n",
    " |    > |    1.0 | 2.0 |         |\n",
    " |    > |    'one' | 'two' |         |\n",
    " |    > |    'one' | True |         |\n",
    " |    > |    True | False |         |\n",
    " |    >= |    1 |    2 |       |\n",
    " |    <= |    1 |    'one' |       |\n",
    " |    <= |    1 |    True |       |\n",
    " |    >= |    1 |    2 |       |\n",
    " |    >= |    1 |    'one' |       |\n",
    " |    >= |    1 |    True |       |\n",
    " |  "
   ]
  },
  {
   "cell_type": "code",
   "execution_count": null,
   "metadata": {
    "editable": true,
    "slideshow": {
     "slide_type": "fragment"
    },
    "tags": []
   },
   "outputs": [],
   "source": [
    "# Try each expression from the table above. Fill in the result in the table above.\n"
   ]
  },
  {
   "cell_type": "markdown",
   "metadata": {
    "editable": true,
    "slideshow": {
     "slide_type": "subslide"
    },
    "tags": []
   },
   "source": [
    "Question:\n",
    "* *What have you learned?* *For which operators can the operand on one side be a different type from the one on the other, and for which must they be the same?*"
   ]
  },
  {
   "cell_type": "markdown",
   "metadata": {
    "editable": true,
    "slideshow": {
     "slide_type": "subslide"
    },
    "tags": []
   },
   "source": [
    "You can also use a comparison operator with variables. In the code cell below, assign the variable ```first``` to the value ```1```. Assign the variable ```second``` to the value ```2```. Then type ```first > second```."
   ]
  },
  {
   "cell_type": "code",
   "execution_count": null,
   "metadata": {
    "editable": true,
    "slideshow": {
     "slide_type": "fragment"
    },
    "tags": []
   },
   "outputs": [],
   "source": [
    "# Assign first to the value 1\n",
    "\n",
    "# Assign second to the value 2\n",
    "\n",
    "# Is first > second?\n"
   ]
  },
  {
   "cell_type": "markdown",
   "metadata": {
    "editable": true,
    "slideshow": {
     "slide_type": "subslide"
    },
    "tags": []
   },
   "source": [
    "This is where the \"= python gotcha\" will get you. If you use ```=``` in a conditional expression when you meant to use ```==```, you might get an exception, or your code may not work as you expect it to."
   ]
  },
  {
   "cell_type": "markdown",
   "metadata": {
    "editable": true,
    "jp-MarkdownHeadingCollapsed": true,
    "slideshow": {
     "slide_type": "slide"
    },
    "tags": []
   },
   "source": [
    "# Boolean Operators (and/or/not)"
   ]
  },
  {
   "cell_type": "markdown",
   "metadata": {
    "editable": true,
    "slideshow": {
     "slide_type": "subslide"
    },
    "tags": []
   },
   "source": [
    "\n",
    "Sometimes you will want to create complex conditional expressions. For example, maybe you want to print out a number only if:\n",
    "* it is even *and* a multiple of five\n",
    "* it is even *or* a multiple of five\n",
    "* It is even and *not* a multiple of five\n",
    "\n",
    "Python provides the **boolean operators** ```and```, ```or```, ```not``` to help you build complex conditional expressions. \n",
    "\n",
    "In the code cells below, write conditional expressions as instructed, building up from simple ones to complex ones corresponding to each example above."
   ]
  },
  {
   "cell_type": "code",
   "execution_count": null,
   "metadata": {
    "editable": true,
    "slideshow": {
     "slide_type": "fragment"
    },
    "tags": []
   },
   "outputs": [],
   "source": [
    "# Assign the variable my_number to the value 20\n",
    "my_number = 20"
   ]
  },
  {
   "cell_type": "code",
   "execution_count": null,
   "metadata": {
    "editable": true,
    "slideshow": {
     "slide_type": "fragment"
    },
    "tags": []
   },
   "outputs": [],
   "source": [
    "# Is my_number an even number?\n"
   ]
  },
  {
   "cell_type": "code",
   "execution_count": null,
   "metadata": {
    "editable": true,
    "slideshow": {
     "slide_type": "fragment"
    },
    "tags": []
   },
   "outputs": [],
   "source": [
    "# Is my_number a multiple of five?\n"
   ]
  },
  {
   "cell_type": "code",
   "execution_count": null,
   "metadata": {
    "editable": true,
    "slideshow": {
     "slide_type": "fragment"
    },
    "tags": []
   },
   "outputs": [],
   "source": [
    "# Is my_number even and a multiple of five?\n"
   ]
  },
  {
   "cell_type": "code",
   "execution_count": null,
   "metadata": {
    "editable": true,
    "slideshow": {
     "slide_type": "fragment"
    },
    "tags": []
   },
   "outputs": [],
   "source": [
    "# Is my_number even or a multiple of five?\n"
   ]
  },
  {
   "cell_type": "code",
   "execution_count": null,
   "metadata": {
    "editable": true,
    "slideshow": {
     "slide_type": "fragment"
    },
    "tags": []
   },
   "outputs": [],
   "source": [
    "# Is my_number even and not a multiple of five?\n",
    "my_number % 2 == 0 and not my_number % 5 == 0"
   ]
  },
  {
   "cell_type": "markdown",
   "metadata": {
    "editable": true,
    "slideshow": {
     "slide_type": "subslide"
    },
    "tags": []
   },
   "source": [
    "In order for an expression using the ```and```  operator to evaluate to ```True```, every condition must be ```True```. Fill in the \"Truth Table\" for every pair:\n",
    "\n",
    " |    Expression |    Evaluation |    \n",
    " |    --- |    --- |    \n",
    " |    True and True |     |    \n",
    " |    True and False |     |    \n",
    " |    False and True |     |    \n",
    " |    False and False |     |    \n",
    "\n"
   ]
  },
  {
   "cell_type": "markdown",
   "metadata": {
    "editable": true,
    "slideshow": {
     "slide_type": "fragment"
    },
    "tags": []
   },
   "source": [
    "Since `and` expressions require all conditions to be  ```True```, they can easily result in  ```False``` evaluations.\n"
   ]
  },
  {
   "cell_type": "markdown",
   "metadata": {
    "editable": true,
    "slideshow": {
     "slide_type": "subslide"
    },
    "tags": []
   },
   "source": [
    "\n",
    "In order for an expression using the ```or```  operator to evaluate to ```True```, any condition must be ```True```. Fill in the \"Truth Table\" for every pair:\n",
    "\n",
    "|    Expression |    Evaluation |    \n",
    " |    --- |    --- |    \n",
    " |    True or True |     |    \n",
    " |    True or False |     |    \n",
    " |    False or True |     |    \n",
    " |    False or False |     | \n",
    "\n",
    " "
   ]
  },
  {
   "cell_type": "markdown",
   "metadata": {
    "editable": true,
    "slideshow": {
     "slide_type": "fragment"
    },
    "tags": []
   },
   "source": [
    "Since ```or``` expressions only require a single condition to be  ```True```, they can easily result in  ```True``` evaluations.\n"
   ]
  },
  {
   "cell_type": "markdown",
   "metadata": {
    "editable": true,
    "slideshow": {
     "slide_type": "subslide"
    },
    "tags": []
   },
   "source": [
    "```not``` takes only one operand. In the code cell below, type ```not True```. "
   ]
  },
  {
   "cell_type": "code",
   "execution_count": null,
   "metadata": {
    "editable": true,
    "slideshow": {
     "slide_type": "fragment"
    },
    "tags": []
   },
   "outputs": [],
   "source": [
    "# Try using not on its own \n"
   ]
  },
  {
   "cell_type": "markdown",
   "metadata": {
    "editable": true,
    "slideshow": {
     "slide_type": "subslide"
    },
    "tags": []
   },
   "source": [
    "Of course, you can combine ```not``` with ```and```, as we did earlier.\n",
    "\n",
    "So far, we have evaluated one or two conditions at once, but we could compare even more at the same time.  Boolean operators also have an order of operations like mathematical operators: they resolve in the order of `not`, `and`, then `or`. However, if you find yourself writing very complex conditional expressions, take a step back: is there a way to do what you want to do while writing code that is easier to understand?"
   ]
  }
 ],
 "metadata": {
  "kernelspec": {
   "display_name": "Python 3 (ipykernel)",
   "language": "python",
   "name": "python3"
  },
  "language_info": {
   "codemirror_mode": {
    "name": "ipython",
    "version": 3
   },
   "file_extension": ".py",
   "mimetype": "text/x-python",
   "name": "python",
   "nbconvert_exporter": "python",
   "pygments_lexer": "ipython3",
   "version": "3.10.8"
  },
  "toc": {
   "base_numbering": 1,
   "nav_menu": {},
   "number_sections": true,
   "sideBar": true,
   "skip_h1_title": true,
   "title_cell": "Table of Contents",
   "title_sidebar": "Contents",
   "toc_cell": false,
   "toc_position": {},
   "toc_section_display": true,
   "toc_window_display": false
  }
 },
 "nbformat": 4,
 "nbformat_minor": 4
}
