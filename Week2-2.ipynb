{
 "cells": [
  {
   "cell_type": "code",
   "execution_count": null,
   "metadata": {
    "editable": true,
    "slideshow": {
     "slide_type": "skip"
    },
    "tags": []
   },
   "outputs": [],
   "source": [
    "# This allows me to display the notebook as slides.\n",
    "import mercury as mr\n",
    " \n",
    "app = mr.App(title=\"Week 2-2\", description=\"Lists\", show_code = True)"
   ]
  },
  {
   "cell_type": "markdown",
   "metadata": {
    "editable": true,
    "slideshow": {
     "slide_type": "slide"
    },
    "tags": []
   },
   "source": [
    "# The Key Terms for Wednesday\n",
    "\n",
    "* list\n",
    "* index\n",
    "* slice\n",
    "* ```in``` and ```not in``` operators\n",
    "* list functions: ```len(), enumerate(), del()``` \n",
    "* method\n",
    "* list methods: ```index(), append(), insert(), sort()```"
   ]
  },
  {
   "cell_type": "markdown",
   "metadata": {
    "editable": true,
    "jp-MarkdownHeadingCollapsed": true,
    "slideshow": {
     "slide_type": "slide"
    },
    "tags": []
   },
   "source": [
    "# Lists"
   ]
  },
  {
   "cell_type": "markdown",
   "metadata": {
    "editable": true,
    "slideshow": {
     "slide_type": "subslide"
    },
    "tags": []
   },
   "source": [
    "A **list** is a collection of items stored in order. For example, you can make a list of:\n",
    "* simple python data types (integers, floating point numbers, strings, booleans)\n",
    "* complex python data types (for example, other lists)\n",
    "* data types from python packages (for example, spaCy tokens)\n",
    "\n",
    "In fact, you have already been working with lists in your projects. With spaCy, each document contains a list of tokens.\n",
    "\n",
    "A list can even contain items of more than one data type! \n",
    "\n",
    "Because a list can contain other data types, we call it a \"complex\" data type."
   ]
  },
  {
   "cell_type": "markdown",
   "metadata": {
    "editable": true,
    "slideshow": {
     "slide_type": "slide"
    },
    "tags": []
   },
   "source": [
    "To make a list, we use ```[``` at the start and ```]``` at the end. We separate list items using ```,```. In the code cell below, type ```[1, 2, 3, 2]``` to make a list containing the integers 1, 2, and 3 (with 2 occurring twice)."
   ]
  },
  {
   "cell_type": "code",
   "execution_count": null,
   "metadata": {
    "editable": true,
    "slideshow": {
     "slide_type": "fragment"
    },
    "tags": []
   },
   "outputs": [],
   "source": [
    "# Make a list containing 1, 2, 3, 2\n"
   ]
  },
  {
   "cell_type": "markdown",
   "metadata": {
    "editable": true,
    "slideshow": {
     "slide_type": "slide"
    },
    "tags": []
   },
   "source": [
    "You can assign a list to be the value of a variable. In the code cell below, assign the list ```[1, 2, 3, 2]``` to the variable ```my_list```."
   ]
  },
  {
   "cell_type": "code",
   "execution_count": null,
   "metadata": {
    "editable": true,
    "slideshow": {
     "slide_type": "fragment"
    },
    "tags": []
   },
   "outputs": [],
   "source": [
    "# Assign the list containing 1, 2, 3 and 2 to the variable my_list\n",
    "\n",
    "# Print my_list\n"
   ]
  },
  {
   "cell_type": "markdown",
   "metadata": {
    "editable": true,
    "slideshow": {
     "slide_type": "slide"
    },
    "tags": []
   },
   "source": [
    "You can also assign a variable to an empty list (one that contains no items). The empty list is ```[]```. In the code cell below, assign the variable ```empty_list``` to the empty list."
   ]
  },
  {
   "cell_type": "code",
   "execution_count": null,
   "metadata": {
    "editable": true,
    "slideshow": {
     "slide_type": "fragment"
    },
    "tags": []
   },
   "outputs": [],
   "source": [
    "# Assign empty_list to an empty list\n",
    "\n",
    "# Print empty_list"
   ]
  },
  {
   "cell_type": "markdown",
   "metadata": {
    "editable": true,
    "slideshow": {
     "slide_type": "slide"
    },
    "tags": []
   },
   "source": [
    "# List Index"
   ]
  },
  {
   "cell_type": "markdown",
   "metadata": {
    "editable": true,
    "slideshow": {
     "slide_type": "subslide"
    },
    "tags": []
   },
   "source": [
    "\n",
    "Each item in a list has an **index** number that corresponds to its place in the list. In `my_list`, we can get the first item using `my_list[0]`, of the second item using `my_list[1]`, and so on.\n",
    "\n",
    "Question:\n",
    "* *In `my_list`, what is the index of 2? Put the corresponding code in the code cell below.*"
   ]
  },
  {
   "cell_type": "code",
   "execution_count": null,
   "metadata": {
    "editable": true,
    "slideshow": {
     "slide_type": "fragment"
    },
    "tags": []
   },
   "outputs": [],
   "source": [
    "# Get 2 out of my_list\n"
   ]
  },
  {
   "cell_type": "markdown",
   "metadata": {
    "editable": true,
    "slideshow": {
     "slide_type": "subslide"
    },
    "tags": []
   },
   "source": [
    "You can use a variable to index into a list. In the code cell below, using `my_index` as the index, get 3 out of `my_list`. "
   ]
  },
  {
   "cell_type": "code",
   "execution_count": null,
   "metadata": {
    "editable": true,
    "slideshow": {
     "slide_type": "fragment"
    },
    "tags": []
   },
   "outputs": [],
   "source": [
    "# Set my_index to the index of 3 in my_list\n",
    "\n",
    "# Use the [] syntax to get 3 out of my_list\n"
   ]
  },
  {
   "cell_type": "markdown",
   "metadata": {
    "editable": true,
    "slideshow": {
     "slide_type": "subslide"
    },
    "tags": []
   },
   "source": [
    "If your list contains another list at index *i*, you can get the item at index *j* in that second list using `[i][j]`. Consider `colby_locations` in the code cell below. How would you get out 'Bixler'?"
   ]
  },
  {
   "cell_type": "code",
   "execution_count": null,
   "metadata": {
    "editable": true,
    "slideshow": {
     "slide_type": "fragment"
    },
    "tags": []
   },
   "outputs": [],
   "source": [
    "# colby_locations is a list that contains other lists\n",
    "colby_locations = [['Dana', 'Roberts', 'Spa'], ['Gordon Center', 'Bixler'], ['Johnson Pond', 'Coburn', 'Dana', 'Heights', 'Averill']]\n",
    "\n",
    "# What is the code to get 'Bixler' out of colby_locations?\n",
    "                   "
   ]
  },
  {
   "cell_type": "markdown",
   "metadata": {
    "editable": true,
    "slideshow": {
     "slide_type": "subslide"
    },
    "tags": []
   },
   "source": [
    "Here's a neat trick: you can also count *backwards* from the end of the list using negative index numbers! In the code cell below, use a negative index to get `['Gordon Center', 'Bixler']` out of `colby_locations`."
   ]
  },
  {
   "cell_type": "code",
   "execution_count": null,
   "metadata": {
    "editable": true,
    "slideshow": {
     "slide_type": "fragment"
    },
    "tags": []
   },
   "outputs": [],
   "source": [
    "# Get ['Gordon Center', 'Bixler'] out of colby_locations using a negative index\n"
   ]
  },
  {
   "cell_type": "markdown",
   "metadata": {
    "editable": true,
    "slideshow": {
     "slide_type": "subslide"
    },
    "tags": []
   },
   "source": [
    "You can replace an item in a list using its index and `=` (assignment). In the code cell below, replace the 3 in `my_list` with a 4."
   ]
  },
  {
   "cell_type": "code",
   "execution_count": null,
   "metadata": {
    "editable": true,
    "slideshow": {
     "slide_type": "fragment"
    },
    "tags": []
   },
   "outputs": [],
   "source": [
    "# Replace the 3 in my_list with a 4\n"
   ]
  },
  {
   "cell_type": "markdown",
   "metadata": {
    "editable": true,
    "jp-MarkdownHeadingCollapsed": true,
    "slideshow": {
     "slide_type": "slide"
    },
    "tags": []
   },
   "source": [
    "# List Slice"
   ]
  },
  {
   "cell_type": "markdown",
   "metadata": {
    "editable": true,
    "slideshow": {
     "slide_type": "subslide"
    },
    "tags": []
   },
   "source": [
    "Let's say we want to get a **sublist** out of a list; for example, `[3, 2]` out of `my_list`. We do this using **slices**. Like list indexing, slicing uses `[` and `]`. But instead of a single index number in the brackets, we put the start index of the slice, then ':', then the end index.\n",
    "\n",
    "Important note: the slice takes a sublist starting at the start index and ending at *but not including* the element at the end index.\n",
    "\n",
    "In the code cell below, use slicing to get `[3, 2]` out of `my_list`."
   ]
  },
  {
   "cell_type": "code",
   "execution_count": null,
   "metadata": {
    "editable": true,
    "slideshow": {
     "slide_type": "fragment"
    },
    "tags": []
   },
   "outputs": [],
   "source": [
    "# Use slicing to get [3, 2] out of my_list\n"
   ]
  },
  {
   "cell_type": "markdown",
   "metadata": {
    "editable": true,
    "slideshow": {
     "slide_type": "subslide"
    },
    "tags": []
   },
   "source": [
    "Now try some variations on slicing in the code cell below.\n",
    "\n",
    "* What happens if you leave the start index off, i.e. the slice code looks like `[:end_index]`?\n",
    "* What happens if you leave the end index off, i.e. the slice code looks like `[start_index:]`?\n",
    "* What happens if you leave *both* the start and end indices off?"
   ]
  },
  {
   "cell_type": "code",
   "execution_count": null,
   "metadata": {
    "editable": true,
    "slideshow": {
     "slide_type": "fragment"
    },
    "tags": []
   },
   "outputs": [],
   "source": [
    "# Try a slice with no start index\n",
    "\n",
    "# Try a slice with no end index\n",
    "\n",
    "# Try a slice with no start/no end indices\n"
   ]
  },
  {
   "cell_type": "markdown",
   "metadata": {
    "editable": true,
    "slideshow": {
     "slide_type": "slide"
    },
    "tags": []
   },
   "source": [
    "# List Operators"
   ]
  },
  {
   "cell_type": "markdown",
   "metadata": {
    "editable": true,
    "slideshow": {
     "slide_type": "subslide"
    },
    "tags": []
   },
   "source": [
    "In addition to many of the operators you already know, there is a new operator that works on lists: `in`.\n",
    "\n",
    "`in` takes a list element as the left operand, and a list as the right operand. If the element is in the list, it returns `True`; otherwise it returns `False`.\n",
    "\n",
    "You can also use `not in` to check if an element is *not* in a list.\n",
    "\n",
    "In the code cell below:\n",
    "* Check if 3 is in `my_list`\n",
    "* Check if 4 is in `my_list`\n",
    "* Check if `['Gordon Center', 'Bixler']` is in `colby_locations`\n",
    "* Check if `'Bixler'` is in `colby_locations`"
   ]
  },
  {
   "cell_type": "code",
   "execution_count": null,
   "metadata": {
    "editable": true,
    "slideshow": {
     "slide_type": "fragment"
    },
    "tags": []
   },
   "outputs": [],
   "source": [
    "# Check if 3 is in my_list (or if 3 is not in my_list)\n",
    "\n",
    "# Check if 4 is in my_list (or if 4 is not in my_list)\n",
    "\n",
    "# Check if ['Gordon Center', 'Bixler'] is in colby_locations\n",
    "\n",
    "# Check if 'Bixler' is in colby_locations\n"
   ]
  },
  {
   "cell_type": "markdown",
   "metadata": {
    "editable": true,
    "slideshow": {
     "slide_type": "subslide"
    },
    "tags": []
   },
   "source": [
    "Question:\n",
    "* *Does anything surprise you about the results of these tests?*\n",
    "\n",
    "Now fill in the list below with operators that can take a list as an operand. I've done the first two for you!\n",
    "\n",
    "* `in`\n",
    "* `==`\n",
    "* third operator here\n",
    "* fourth operator here\n",
    "\n",
    "etc.\n",
    "\n",
    "You can use the code cell below to test."
   ]
  },
  {
   "cell_type": "code",
   "execution_count": null,
   "metadata": {
    "editable": true,
    "slideshow": {
     "slide_type": "fragment"
    },
    "tags": []
   },
   "outputs": [],
   "source": [
    "\n"
   ]
  },
  {
   "cell_type": "markdown",
   "metadata": {
    "editable": true,
    "slideshow": {
     "slide_type": "slide"
    },
    "tags": []
   },
   "source": [
    "# List Functions"
   ]
  },
  {
   "cell_type": "markdown",
   "metadata": {
    "editable": true,
    "slideshow": {
     "slide_type": "subslide"
    },
    "tags": []
   },
   "source": [
    "## `len()`\n",
    "\n",
    "In order to avoid exceptions, before indexing into a list it is good to know how many elements it has. To get the number of elements in a list, use the function `len()`. "
   ]
  },
  {
   "cell_type": "code",
   "execution_count": null,
   "metadata": {
    "editable": true,
    "slideshow": {
     "slide_type": "fragment"
    },
    "tags": []
   },
   "outputs": [],
   "source": [
    "# Get the length of my_list\n",
    "len(my_list)"
   ]
  },
  {
   "cell_type": "markdown",
   "metadata": {
    "editable": true,
    "slideshow": {
     "slide_type": "subslide"
    },
    "tags": []
   },
   "source": [
    "In the code cell below, use `len()` and a `for` loop with the function `range()`, along with indexing, to print out each item in `colby_locations`."
   ]
  },
  {
   "cell_type": "code",
   "execution_count": null,
   "metadata": {
    "editable": true,
    "slideshow": {
     "slide_type": "fragment"
    },
    "tags": []
   },
   "outputs": [],
   "source": [
    "# Print out each item in colby_locations using a for loop and list indexing\n"
   ]
  },
  {
   "cell_type": "markdown",
   "metadata": {
    "editable": true,
    "slideshow": {
     "slide_type": "subslide"
    },
    "tags": []
   },
   "source": [
    "## `enumerate()`\n",
    "\n",
    "The `enumerate()` function returns each element in a list, one by one.\n",
    "\n",
    "Here's one way in which it is useful. You already know that lists can contain multiple identical items. If there are multiple identical items and you want the indices for all of them, you can use the `enumerate()` function to keep track of the `index` and `element` at the same time. Notice that this `for` loop defines two variables. The first variable keeps track of the current index number in the loop, the second variable keeps track of the value for the current element."
   ]
  },
  {
   "cell_type": "code",
   "execution_count": null,
   "metadata": {
    "editable": true,
    "slideshow": {
     "slide_type": "fragment"
    },
    "tags": []
   },
   "outputs": [],
   "source": [
    "# Make a list that contains multiple identlcal items\n",
    "pets_list = ['cat', 'dog', 'bunny', 'fish', 'cat']\n",
    "\n",
    "# Use the enumerate function to get the index for each of them\n",
    "for index, element in enumerate(pets_list):\n",
    "    if element == 'cat':\n",
    "        print(index)"
   ]
  },
  {
   "cell_type": "markdown",
   "metadata": {
    "editable": true,
    "slideshow": {
     "slide_type": "subslide"
    },
    "tags": []
   },
   "source": [
    "## `del()`\n",
    "\n",
    "The `del()` function deletes the item at the given index from the list.\n",
    "\n",
    "In the code cell below, delete the 'dog' from `pets_list`."
   ]
  },
  {
   "cell_type": "code",
   "execution_count": null,
   "metadata": {
    "editable": true,
    "slideshow": {
     "slide_type": "fragment"
    },
    "tags": []
   },
   "outputs": [],
   "source": [
    "# Delete 'dog' from pets_list using its index\n",
    "\n",
    "# Print pets_list\n"
   ]
  },
  {
   "cell_type": "markdown",
   "metadata": {
    "editable": true,
    "slideshow": {
     "slide_type": "slide"
    },
    "tags": []
   },
   "source": [
    "# List Methods"
   ]
  },
  {
   "cell_type": "markdown",
   "metadata": {
    "editable": true,
    "slideshow": {
     "slide_type": "subslide"
    },
    "tags": []
   },
   "source": [
    "A **method** is a kind of function. (Remember, functions end in parentheses). Methods are specific to the data types they act on, so we put them *after* the value with a '.' in between, rather than around the value. \n",
    "\n",
    "For example, `index()` is a method that acts on a list. In the code cell below, compare the way we call `len()` on `my_list` with the way we call `index()` on `my_list`."
   ]
  },
  {
   "cell_type": "code",
   "execution_count": null,
   "metadata": {
    "editable": true,
    "slideshow": {
     "slide_type": "fragment"
    },
    "tags": []
   },
   "outputs": [],
   "source": [
    "# len\n",
    "len(my_list)\n",
    "\n",
    "# index\n",
    "my_list.index(1)"
   ]
  },
  {
   "cell_type": "markdown",
   "metadata": {
    "editable": true,
    "slideshow": {
     "slide_type": "subslide"
    },
    "tags": []
   },
   "source": [
    "You can get more information about functions and methods using `help()`. For example, in the code cell below we get help for `len()` and 'index()`."
   ]
  },
  {
   "cell_type": "code",
   "execution_count": null,
   "metadata": {
    "editable": true,
    "slideshow": {
     "slide_type": "fragment"
    },
    "tags": []
   },
   "outputs": [],
   "source": [
    "# Help for the len() function\n",
    "help(len)\n",
    "\n",
    "# Help for the list index() method\n",
    "help(list.index)"
   ]
  },
  {
   "cell_type": "markdown",
   "metadata": {
    "editable": true,
    "slideshow": {
     "slide_type": "subslide"
    },
    "tags": []
   },
   "source": [
    "This table lists five useful list methods.\n",
    "\n",
    "| Method Name | Purpose |\n",
    "|---|---|\n",
    "|index()| |\n",
    "|append()| |\n",
    "|insert()| |\n",
    "|remove()| |\n",
    "|sort()| |\n",
    "\n",
    "In the code cells below, get help for each method. Then, try the method out on `my_list`. Add your summary of what the method does in the table."
   ]
  },
  {
   "cell_type": "code",
   "execution_count": null,
   "metadata": {
    "editable": true,
    "slideshow": {
     "slide_type": "fragment"
    },
    "tags": []
   },
   "outputs": [],
   "source": [
    "# Get help for index()\n",
    "\n",
    "# Try it on my_list"
   ]
  },
  {
   "cell_type": "code",
   "execution_count": null,
   "metadata": {
    "editable": true,
    "slideshow": {
     "slide_type": "fragment"
    },
    "tags": []
   },
   "outputs": [],
   "source": [
    "# Get help for append()\n",
    "\n",
    "# Try it on my_list"
   ]
  },
  {
   "cell_type": "code",
   "execution_count": null,
   "metadata": {
    "editable": true,
    "slideshow": {
     "slide_type": "fragment"
    },
    "tags": []
   },
   "outputs": [],
   "source": [
    "# Get help for insert()\n",
    "\n",
    "# Try it on my_list"
   ]
  },
  {
   "cell_type": "code",
   "execution_count": null,
   "metadata": {
    "editable": true,
    "slideshow": {
     "slide_type": "fragment"
    },
    "tags": []
   },
   "outputs": [],
   "source": [
    "# Get help for remove()\n",
    "\n",
    "# Try it on my_list"
   ]
  },
  {
   "cell_type": "code",
   "execution_count": null,
   "metadata": {
    "editable": true,
    "slideshow": {
     "slide_type": "fragment"
    },
    "tags": []
   },
   "outputs": [],
   "source": [
    "# Get help for sort()\n",
    "\n",
    "# Try it on my_list"
   ]
  },
  {
   "cell_type": "markdown",
   "metadata": {
    "editable": true,
    "slideshow": {
     "slide_type": "subslide"
    },
    "tags": []
   },
   "source": [
    "# A Final Observation About Lists\n",
    "\n",
    "Questions:\n",
    "* *We now know four basic python data types (int, float, string, boolean) and one complex python data type (list). Which simple data type seems most like list?*\n",
    "* *Can we slice into that simple data type the same way we can lists? Use the code cell below to try.*\n",
    "* *Do the list operators work on that simple python data type? Use the code cell below to try.*"
   ]
  },
  {
   "cell_type": "code",
   "execution_count": null,
   "metadata": {
    "editable": true,
    "slideshow": {
     "slide_type": "fragment"
    },
    "tags": []
   },
   "outputs": [],
   "source": []
  }
 ],
 "metadata": {
  "kernelspec": {
   "display_name": "Python 3 (ipykernel)",
   "language": "python",
   "name": "python3"
  },
  "language_info": {
   "codemirror_mode": {
    "name": "ipython",
    "version": 3
   },
   "file_extension": ".py",
   "mimetype": "text/x-python",
   "name": "python",
   "nbconvert_exporter": "python",
   "pygments_lexer": "ipython3",
   "version": "3.10.8"
  },
  "toc": {
   "base_numbering": 1,
   "nav_menu": {},
   "number_sections": true,
   "sideBar": true,
   "skip_h1_title": true,
   "title_cell": "Table of Contents",
   "title_sidebar": "Contents",
   "toc_cell": false,
   "toc_position": {
    "height": "calc(100% - 180px)",
    "left": "10px",
    "top": "150px",
    "width": "354px"
   },
   "toc_section_display": true,
   "toc_window_display": false
  }
 },
 "nbformat": 4,
 "nbformat_minor": 4
}
