{
 "cells": [
  {
   "cell_type": "markdown",
   "metadata": {
    "editable": true,
    "slideshow": {
     "slide_type": ""
    },
    "tags": []
   },
   "source": [
    "# Review\n",
    "\n",
    "Question 1: *Provide a definition of and example for each of these terms:*\n",
    "\n",
    "| Term | Example | Definition |\n",
    "| ----- | ------- | ---------- |\n",
    "| boolean  |            |     | \n",
    "| comparison operator  |            |      | \n",
    "| boolean operator   |            |      | \n",
    "| conditional statement   |            |     | \n",
    "| loop  |            |     | "
   ]
  },
  {
   "cell_type": "markdown",
   "metadata": {
    "editable": true,
    "slideshow": {
     "slide_type": ""
    },
    "tags": []
   },
   "source": [
    "Question 2: *For each of these operators, for each of the python data types we know, can it take them as operands? (Assume both operands are the same type.)*\n",
    "\n",
    "| Operator | Int/Float | String | Boolean | \n",
    "| -------  | --------- | ------ | ------- | \n",
    "| +\t|         |       |           | \n",
    "| -\t|         |       |           | \n",
    "| *\t|         |       |           |   \n",
    "| /\t|         |       |           |   \n",
    "| **\t|         |       |           |   \n",
    "| % |         |       |           |   \n",
    "| == |         |       |           |   \n",
    "| != |         |       |           |   \n",
    "| > |         |       |           |   \n",
    "| < |         |       |           |   \n",
    "| >= |         |       |           |   \n",
    "| <= |         |       |           |   \n",
    "| and |         |       |           |   \n",
    "| or |         |       |           |   \n",
    "| not |         |       |           |   "
   ]
  },
  {
   "cell_type": "markdown",
   "metadata": {
    "editable": true,
    "slideshow": {
     "slide_type": ""
    },
    "tags": []
   },
   "source": [
    "Question 3: *For each of the data types listed below, list at least three functions that can be applied to that data type.*\n",
    "\n",
    "* string: "
   ]
  },
  {
   "cell_type": "markdown",
   "metadata": {
    "editable": true,
    "slideshow": {
     "slide_type": ""
    },
    "tags": []
   },
   "source": [
    "Question 4: *List some common flow control statements.*\n",
    "\n",
    "* first one\n",
    "* second one"
   ]
  },
  {
   "cell_type": "markdown",
   "metadata": {},
   "source": [
    "# Coding Exercise: Flow Control Statements\n",
    "\n",
    "Using your knowledge of flow control statements, can you write code that asks a user for their name, then prints out a response depending on whether they are old enough to drive?"
   ]
  },
  {
   "cell_type": "code",
   "execution_count": 1,
   "metadata": {},
   "outputs": [],
   "source": [
    "# Question 7\n",
    "\n",
    "# Ask the user for their name and store it in a variable `user_name`\n",
    "\n",
    "# Ask the user for their age and store it in a variable `user_age`\n",
    "\n",
    "# Write an if, else statement that checks to see if the user is driving age.\n",
    "## If the input the user is less than driving age, print \"user_name is not old enough to drive.\"\n",
    "\n",
    "## Else (they are driving age), print \"user_name is old enough to drive.\""
   ]
  },
  {
   "cell_type": "code",
   "execution_count": 2,
   "metadata": {},
   "outputs": [],
   "source": [
    "# Question 8\n",
    "\n",
    "# Build on Question 7\n",
    "\n",
    "# Improve your flow control to consider whether the user has input a realistic age\n",
    "\n",
    "# If the user inputs an age over 120, print \"Is `user_name` a human or a turtle?\"\n",
    "\n",
    "# If the user inputs an age less than 5, print \"`user_name` is not even ready for a bicycle!\"\n"
   ]
  },
  {
   "cell_type": "code",
   "execution_count": 3,
   "metadata": {},
   "outputs": [],
   "source": [
    "# Question 9\n",
    "\n",
    "# Build on Question 8\n",
    "\n",
    "# Find a solution to address when a user enters text that is not a number (hint: elif, or try/catch)"
   ]
  },
  {
   "cell_type": "code",
   "execution_count": 4,
   "metadata": {},
   "outputs": [],
   "source": [
    "# Question 10\n",
    "\n",
    "# Build on Question 9\n",
    "\n",
    "# If the user enters an age that is not a number or unrealistic, prompt for a new age (hint: while)"
   ]
  },
  {
   "cell_type": "markdown",
   "metadata": {
    "editable": true,
    "slideshow": {
     "slide_type": ""
    },
    "tags": []
   },
   "source": [
    "# Resources\n",
    "\n",
    "[Constellate tutorial](https://www.constellate.org/tutorials/) Python Basics 2 and Python Basics 3.\n",
    "\n",
    "[Python docs](https://docs.python.org/).\n"
   ]
  }
 ],
 "metadata": {
  "kernelspec": {
   "display_name": "Python 3 (ipykernel)",
   "language": "python",
   "name": "python3"
  },
  "language_info": {
   "codemirror_mode": {
    "name": "ipython",
    "version": 3
   },
   "file_extension": ".py",
   "mimetype": "text/x-python",
   "name": "python",
   "nbconvert_exporter": "python",
   "pygments_lexer": "ipython3",
   "version": "3.10.8"
  }
 },
 "nbformat": 4,
 "nbformat_minor": 4
}
