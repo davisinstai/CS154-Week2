{
 "cells": [
  {
   "cell_type": "code",
   "execution_count": null,
   "metadata": {},
   "outputs": [],
   "source": [
    "# This allows me to display the notebook as slides.\n",
    "import mercury as mr\n",
    " \n",
    "app = mr.App(title=\"Week 2-1\", description=\"Conditionals\", show_code = True)"
   ]
  },
  {
   "cell_type": "markdown",
   "metadata": {},
   "source": [
    "# The Key Terms for Monday\n",
    "\n",
    "* boolean\n",
    "* comparison operator\n",
    "* boolean operator\n",
    "* `if` statements\n",
    "* `else` statements\n",
    "* `elif` statements\n",
    "* Handling errors with `try` and `except`"
   ]
  },
  {
   "cell_type": "markdown",
   "metadata": {},
   "source": [
    "# Booleans\n",
    "\n",
    "So far we have learned about three basic python data types: **integer**, **floating point number** and **string**. But we have also learned about ```==``` and ```!=```, which return ```True``` or ```False```. The values ```True``` and ```False``` are the only values that are part of the python data type **boolean**.\n",
    "\n",
    "You can create a boolean just by typing it in a code cell. In the code cell below, type ```True```."
   ]
  },
  {
   "cell_type": "code",
   "execution_count": null,
   "metadata": {},
   "outputs": [],
   "source": [
    "# Type True\n"
   ]
  },
  {
   "cell_type": "markdown",
   "metadata": {},
   "source": [
    "Notice that it has to be capitalized. Go back and try typing ```true```. What happens?"
   ]
  },
  {
   "cell_type": "markdown",
   "metadata": {},
   "source": [
    "You can also assign a variable to a boolean value. In the code cell below, assign the value ```False``` to the variable ```my_boolean```."
   ]
  },
  {
   "cell_type": "code",
   "execution_count": null,
   "metadata": {},
   "outputs": [],
   "source": [
    "# Assign False to the variable my_boolean\n",
    "\n",
    "# Print my_boolean"
   ]
  },
  {
   "cell_type": "markdown",
   "metadata": {},
   "source": [
    "Because ```True``` and ```False``` are values of the **boolean** data type built into python, you cannot use them as variable names. Try running the code cell below:"
   ]
  },
  {
   "cell_type": "code",
   "execution_count": null,
   "metadata": {},
   "outputs": [],
   "source": [
    "# The boolean values  ```True``` and  ```False``` cannot be used for variable names. \n",
    "True = 7"
   ]
  },
  {
   "cell_type": "markdown",
   "metadata": {},
   "source": [
    "Although you *can* use ```true``` and ```false``` as variable names (not the capitalization!), we don't recommend it. Your code will be confusing."
   ]
  },
  {
   "cell_type": "markdown",
   "metadata": {},
   "source": []
  },
  {
   "cell_type": "markdown",
   "metadata": {},
   "source": [
    "# Comparison Operators\n",
    "Now that we have a way to store integers, floats, strings and booleans in variables, we can use **comparison operators** to make decisions based on those values. An **expression** that uses a **comparison operator** will return a **boolean** value."
   ]
  },
  {
   "cell_type": "markdown",
   "metadata": {},
   "source": [
    "\n",
    "Question:\n",
    "* *You already know two comparison operators. What are they?*"
   ]
  },
  {
   "cell_type": "markdown",
   "metadata": {},
   "source": [
    "Here is a list of comparison operators:\n",
    "* ```==``` (equals)\n",
    "* ```!=``` (not equal)\n",
    "* ```<```\n",
    "* ```>```\n",
    "* ```<=```\n",
    "* ```>=``` \n",
    "\n",
    "Use the code cell below to try them out by writing expressions using the operands specified in the tables. Fill in the definitions of the operators in the list above (I did the first two for you!). In the table below, fill in *either* the boolean value returned from evaluating each expression, *or* \"error\" if evaluating the expression gives you an exception (error).\n",
    "\n",
    " |    Operator |    Left operand |    Right operand |    Return value |    \n",
    " |    --- |    --- |    ----- |    ---- |    \n",
    " |    ==  |    1 |    1 |        |    \n",
    " |    == |    1 |    1.0 |       |\n",
    " |    == |    1 |    2.0 |       |\n",
    " |    == |    1 |    'one' |       |\n",
    " |    == |    1 |    True |       |\n",
    " |    != |    1 |    2.0 |       |\n",
    " |    != |    1 |    'one' |       | \n",
    " |    != |    1 |    True |       |\n",
    " |    < |    1 |    2 |       |\n",
    " |    < |    1 |    'one' |       |\n",
    " |    < |    1 |    True |       |\n",
    " |    > |    1 |    2 |       |\n",
    " |    > |    1 |    'one' |       |\n",
    " |    > |    1 |    True |       |\n",
    " |    >= |    1 |    2 |       |\n",
    " |    <= |    1 |    'one' |       |\n",
    " |    <= |    1 |    True |       |\n",
    " |    >= |    1 |    2 |       |\n",
    " |    >= |    1 |    'one' |       |\n",
    " |    >= |    1 |    True |       |\n"
   ]
  },
  {
   "cell_type": "code",
   "execution_count": null,
   "metadata": {},
   "outputs": [],
   "source": [
    "# Try each expression from the table above. Fill in the result in the table above.\n"
   ]
  },
  {
   "cell_type": "markdown",
   "metadata": {},
   "source": [
    "Question:\n",
    "* *What have you learned?* *For which operators can the operand on one side be a different type from the one on the other, and for which must they be the same?*"
   ]
  },
  {
   "cell_type": "markdown",
   "metadata": {},
   "source": [
    "This is where the \"= python gotcha\" will get you. If you use ```=``` in a conditional expression when you meant to use ```==```, you might get an exception, or your code may not work as you expect it to."
   ]
  },
  {
   "cell_type": "markdown",
   "metadata": {},
   "source": [
    "By the way, you can also use a comparison operator with variables. In the code cell below, assign the variable ```first``` to the value ```1```. Assign the variable ```second``` to the value ```2```. Then type ```first > second```."
   ]
  },
  {
   "cell_type": "code",
   "execution_count": null,
   "metadata": {},
   "outputs": [],
   "source": [
    "# Assign first to the value 1\n",
    "\n",
    "# Assign second to the value 2\n",
    "\n",
    "# Is first > second?\n"
   ]
  },
  {
   "cell_type": "markdown",
   "metadata": {},
   "source": [
    "# Boolean Operators (and/or/not)\n",
    "\n",
    "Sometimes you will want to create complex conditional expressions. For example, maybe you want to print out a number only if:\n",
    "* it is even *and* a multiple of five\n",
    "* it is even *or* a multiple of five\n",
    "* It is even and *not* a multiple of five\n",
    "\n",
    "Python provides the **boolean operators** ```and```, ```or```, ```not``` to help you build complex conditional expressions. \n",
    "\n",
    "In the code cells below, write conditional expressions as instructed, building up from simple ones to complex ones corresponding to each example above."
   ]
  },
  {
   "cell_type": "code",
   "execution_count": 5,
   "metadata": {},
   "outputs": [],
   "source": [
    "# Assign the variable my_number to the value 20\n",
    "my_number = 20"
   ]
  },
  {
   "cell_type": "code",
   "execution_count": null,
   "metadata": {},
   "outputs": [],
   "source": [
    "# Is my_number an even number?\n"
   ]
  },
  {
   "cell_type": "code",
   "execution_count": null,
   "metadata": {},
   "outputs": [],
   "source": [
    "# Is my_number a multiple of five?\n"
   ]
  },
  {
   "cell_type": "code",
   "execution_count": 7,
   "metadata": {},
   "outputs": [
    {
     "data": {
      "text/plain": [
       "False"
      ]
     },
     "execution_count": 7,
     "metadata": {},
     "output_type": "execute_result"
    }
   ],
   "source": [
    "# Is my_number even and a multiple of five?\n"
   ]
  },
  {
   "cell_type": "code",
   "execution_count": 8,
   "metadata": {},
   "outputs": [
    {
     "data": {
      "text/plain": [
       "False"
      ]
     },
     "execution_count": 8,
     "metadata": {},
     "output_type": "execute_result"
    }
   ],
   "source": [
    "# Is my_number even or a multiple of five?\n"
   ]
  },
  {
   "cell_type": "code",
   "execution_count": 11,
   "metadata": {},
   "outputs": [
    {
     "data": {
      "text/plain": [
       "False"
      ]
     },
     "execution_count": 11,
     "metadata": {},
     "output_type": "execute_result"
    }
   ],
   "source": [
    "# Is my_number even and not a multiple of five?\n",
    "my_number % 2 == 0 and not my_number % 5 == 0"
   ]
  },
  {
   "cell_type": "markdown",
   "metadata": {},
   "source": [
    "In order for an expression using the ```and```  operator to evaluate to ```True```, every condition must be ```True```. Fill in the \"Truth Table\" for every pair:\n",
    "\n",
    " |    Expression |    Evaluation |    \n",
    " |    --- |    --- |    \n",
    " |    True and True |     |    \n",
    " |    True and False |     |    \n",
    " |    False and True |     |    \n",
    " |    False and False |     |    \n",
    "\n"
   ]
  },
  {
   "cell_type": "markdown",
   "metadata": {},
   "source": [
    "Since `and` expressions require all conditions to be  ```True```, they can easily result in  ```False``` evaluations.\n"
   ]
  },
  {
   "cell_type": "markdown",
   "metadata": {},
   "source": [
    "\n",
    "In order for an expression using the ```or```  operator to evaluate to ```True```, any condition must be ```True```. Fill in the \"Truth Table\" for every pair:\n",
    "|    Expression |    Evaluation |    \n",
    " |    --- |    --- |    \n",
    " |    True or True |     |    \n",
    " |    True or False |     |    \n",
    " |    False or True |     |    \n",
    " |    False or False |     | \n",
    "\n",
    " "
   ]
  },
  {
   "cell_type": "markdown",
   "metadata": {},
   "source": [
    "Since ```or``` expressions only require a single condition to be  ```True```, they can easily result in  ```True``` evaluations.\n"
   ]
  },
  {
   "cell_type": "markdown",
   "metadata": {},
   "source": [
    "In order for an expression using the ```not```  operator to evaluate to ```True```, no condition must be ```True```. Fill in the \"Truth Table\" for every pair:\n",
    "|    Expression |    Evaluation |    \n",
    " |    --- |    --- |    \n",
    " |    True and not True |     |    \n",
    " |    True and not False |     |    \n",
    " |    False and not True |     |    \n",
    " |    False and not False |     | \n",
    "\n",
    " "
   ]
  },
  {
   "cell_type": "markdown",
   "metadata": {},
   "source": [
    "```not``` can also be used on its own; in this case it takes only one operand. In the code cell below, type ```not True```."
   ]
  },
  {
   "cell_type": "code",
   "execution_count": null,
   "metadata": {},
   "outputs": [],
   "source": [
    "# Try using not on its own \n"
   ]
  },
  {
   "cell_type": "markdown",
   "metadata": {},
   "source": [
    "So far, we have evaluated one or two conditions at once, but we could compare even more at the same time.  Boolean operators also have an order of operations like mathematical operators: they resolve in the order of `not`, `and`, then `or`. However, if you find yourself writing very complex conditional expressions, take a step back: is there a way to do what you want to do while writing code that is easier to understand?"
   ]
  },
  {
   "cell_type": "markdown",
   "metadata": {},
   "source": [
    "# Flow Control Statements\n",
    "\n",
    "So far, you have written one line of python code at a time. Each line of code does one thing. If you want to do more than one thing, you write multiple lines of code one after the other, and they **execute** (or run) in order. But what if you want to execute one or more lines of code only if a particular condition holds? For example, what if you have a variable ```text``` (assigned to a string) and you want to print out the value of ```text``` only if it is equal to \"iPhone\"? \n"
   ]
  },
  {
   "cell_type": "markdown",
   "metadata": {},
   "source": [
    "\n",
    "We can control when or if code gets executed using **flow control statements** called **conditional statements** (or just conditionals). Flow control statements are core parts of the python programming language. Conditionals are flow control statements that correspond to English language statements like:\n",
    "* *if the text is iPhone, print it*\n",
    "* *when the value of ```count``` is an even number, add one to it*\n",
    "* *if ```count``` is even, print it, otherwise (else) add one to it*\n",
    "\n",
    "At the core of a conditional is a statement that evaluates to a **boolean** value:\n",
    "* *the text is iPhone*\n",
    "* *```count``` is even*\n",
    "\n"
   ]
  },
  {
   "cell_type": "markdown",
   "metadata": {},
   "source": [
    "## Writing a Conditional Statement\n",
    "\n",
    "The general form of a conditional statement in python is a condition followed by an action clause:\n",
    "\n",
    "`In this condition:`<br />\n",
    "&nbsp; &nbsp; &nbsp; &nbsp;`perform this action`\n",
    "\n",
    "The condition is given followed by a colon (:). The action clause then follows on the next line, indented into a **code block**.\n",
    "\n",
    "* If the condition evaluates to ```True```, the action clause(s) in the block of code is executed. \n",
    "* If the condition evaluates to ```False```, the action clause(s) in the block of code is not executed."
   ]
  },
  {
   "cell_type": "markdown",
   "metadata": {},
   "source": [
    "### Code Blocks\n",
    "\n",
    "A **code block** is a snippet of code that begins with an indentation. A code block can contain one line of code (one action) or multiple lines of code. A code block can contain another code block (further indented). A code block ends when the indentation becomes less. \n",
    "\n",
    "![Visualization of code block indentations](https://ithaka-labs.s3.amazonaws.com/static-files/images/tdm/tdmdocs/code_block_indentation.png)\n",
    "\n"
   ]
  },
  {
   "cell_type": "markdown",
   "metadata": {},
   "source": [
    "This is where that \"white space python gotcha\" will get you. \n",
    "* Since the level of indentation describes which code block will be executed, improper indentations will make your code crash. \n",
    "* If you accidentally indent too much or not enough, your program will not behave as you expect it too. \n",
    "* Indentations are created using the ```tab``` key. If you indent using the ```space``` key sometimes and the ```tab``` key other times, your code may crash."
   ]
  },
  {
   "cell_type": "markdown",
   "metadata": {},
   "source": [
    "## Types of Conditional Statements\n",
    "\n",
    "The code example above uses an `if` statement, but there are other kinds of conditional statement in python.\n",
    "\n",
    "|Statement|Means|Condition for execution|\n",
    "|---|---|---|\n",
    "|`if`|if|if the condition is fulfilled|\n",
    "|`elif`|else if|if no previous conditions were met *and* this condition is met|\n",
    "|`else`|else|if no condition is met (no condition is supplied for an `else` statement)|\n",
    "\n",
    "Let's take a look at each of these in turn."
   ]
  },
  {
   "cell_type": "markdown",
   "metadata": {},
   "source": [
    "### `if` Statements\n",
    "\n",
    "An `if` statement begins with an expression that evaluates to  ```True``` or  ```False```.\n",
    "\n",
    "* if  ```True```, then perform this action\n",
    "* if  ```False```, skip over this action\n",
    "\n",
    "In practice, the form looks like this:\n",
    "\n",
    "`if this is True:` <br />\n",
    "&nbsp; &nbsp; &nbsp; &nbsp; `perform this action`\n",
    "\n",
    "Let's put an `if` statement into practice with a very simple program that asks the user how their day is going and then responds. We can visualize the flow of the program in a flowchart.\n",
    "\n",
    "![Flowchart of a good day program](https://ithaka-labs.s3.amazonaws.com/static-files/images/tdm/tdmdocs/good_day_flowchart.png)\n",
    "\n",
    "Our program will use a single `if` statement. If the user types \"Yes\" or \"yes\", then our program will send a response."
   ]
  },
  {
   "cell_type": "code",
   "execution_count": null,
   "metadata": {},
   "outputs": [],
   "source": [
    "# A program that responds to a user having a good day\n",
    "having_good_day = input('Are you having a good day? (Yes or No) ') # Define a variable having_good_day to hold the user's input in a string\n",
    "\n",
    "if having_good_day == 'Yes' or having_good_day == 'yes':  # If the user has input the string 'Yes' or 'yes'\n",
    "    print('Glad to hear your day is going well!') # Print: Glad to hear your day is going well!"
   ]
  },
  {
   "cell_type": "markdown",
   "metadata": {},
   "source": [
    "Our program works fairly well so long as the user inputs 'Yes' or 'yes'. If they type 'no' or something else, it simply ends. If we want to have our program still respond, we can use an `else` statement."
   ]
  },
  {
   "cell_type": "markdown",
   "metadata": {},
   "source": [
    "### `else` Statements\n",
    "\n",
    "An `else` statement *does not require a condition* to evaluate to  ```True``` or  ```False```. It simply executes when none of the previous conditions are met. The form looks like this:\n",
    "\n",
    "`else:` <br />\n",
    "&nbsp; &nbsp; &nbsp; &nbsp; `perform this action`\n",
    "\n",
    "Our updated flowchart now contains a second branch for our program.\n",
    "\n",
    "![The program flowchart with two branches](https://ithaka-labs.s3.amazonaws.com/static-files/images/tdm/tdmdocs/good_day_flowchart2.png)\n",
    "    \n"
   ]
  },
  {
   "cell_type": "code",
   "execution_count": null,
   "metadata": {},
   "outputs": [],
   "source": [
    "# A program that responds to whether the user is having a good or bad day\n",
    "having_good_day = input('Are you having a good day? (Yes or No) ') # Define a variable having_good_day to hold the user's input\n",
    "\n",
    "if having_good_day == 'Yes' or having_good_day == 'yes': # If the user has input the string 'Yes' or 'yes'\n",
    "    print('Glad to hear your day is going well!') # Print: Glad to hear your day is going well!\n",
    "    \n",
    "# Write an else statement here\n"
   ]
  },
  {
   "cell_type": "markdown",
   "metadata": {},
   "source": [
    "Our new program is more robust. The new `else` statement still gives the user a response if they do not respond \"Yes\" or \"yes\". But what if we wanted to add an option for when a user says \"No\"? Or when a user inputs something besides \"Yes\" or \"No\"? We could use a series of `elif` statements."
   ]
  },
  {
   "cell_type": "markdown",
   "metadata": {},
   "source": [
    "### `elif` Statements\n",
    "\n",
    "An `elif` statement, short for \"else if,\" allows us to create a list of possible conditions where one (and only one) action will be executed. `elif` statements come after an initial `if` statement and before an `else` statement:\n",
    "\n",
    "`if condition A is True:` <br />\n",
    "&nbsp; &nbsp; &nbsp; &nbsp; `perform action A` <br />\n",
    "`elif condition B is True:` <br />\n",
    "&nbsp; &nbsp; &nbsp; &nbsp; `perform action B` <br />\n",
    "`elif condition C is True:` <br />\n",
    "&nbsp; &nbsp; &nbsp; &nbsp; `perform action C` <br />\n",
    "`elif condition D is True:` <br />\n",
    "&nbsp; &nbsp; &nbsp; &nbsp; `perform action D` <br />\n",
    "`else:` <br />\n",
    "&nbsp; &nbsp; &nbsp; &nbsp;`perform action E`\n",
    "\n",
    "For example, we could add an `elif` statement to our program so it responds to both \"Yes\" and \"No\" with unique answers. We could then add an `else` statement that responds to any user input that is not \"Yes\" or \"No\".\n",
    "\n",
    "![Flowchart showing three branches](https://ithaka-labs.s3.amazonaws.com/static-files/images/tdm/tdmdocs/good_day_flowchart3.png)"
   ]
  },
  {
   "cell_type": "code",
   "execution_count": null,
   "metadata": {},
   "outputs": [],
   "source": [
    "# A program that responds to whether the user is having a good or bad day\n",
    "having_good_day = input('Are you having a good day? (Yes or No) ') # Define a variable having_good_day to hold the user's input\n",
    "\n",
    "if having_good_day == 'Yes' or having_good_day == 'yes': # If the user has input the string 'Yes' or 'yes'\n",
    "    print('Glad to hear your day is going well!') # Print: Glad to hear your day is going well!\n",
    "\n",
    "# Write an elif statement for having_good_day == 'No'\n",
    "\n",
    "\n",
    "# An else statement that catches if the answer is not 'yes' or 'no'\n",
    "else: # Execute this if none of the other branches executes\n",
    "    print('Sorry, I only understand \"Yes\" or \"No\"') # Note that we can use double quotations in our string because it begins and ends with single quotes"
   ]
  },
  {
   "cell_type": "markdown",
   "metadata": {},
   "source": [
    "#### The difference between`elif` and `if`?\n",
    "\n",
    "When an `elif` condition is met, all other `elif` statements are skipped over. This means that one (and only one) [flow control statement](https://constellate.org/docs/key-terms/#flow-control-statement) is executed when using `elif` statements. The fact that only one `elif` statement is executed is important because it may be possible for multiple [flow control statements](https://constellate.org/docs/key-terms/#flow-control-statement) to evaluate to  ```True```. A series of `elif` statements evaluates from top-to-bottom, only executing the first `elif` statement whose condition evaluates to  ```True```. The rest of the `elif` statements are skipped over (whether they are  ```True``` or  ```False```).\n",
    "\n",
    "In practice, a set of mutually exclusive `if` statements will result in the same actions as an `if` statement followed by `elif` statements. There are a few good reasons, however, to use `elif` statements:\n",
    "\n",
    "1. A series of `elif` statements helps someone reading your code understand that a single flow control choice is being made.\n",
    "2. Using `elif` statements will make your program run faster since other conditional statements are skipped after the first evaluates to  ```True```. Otherwise, every `if` statement has to be evaluated before the program moves to the next step.\n",
    "3. Writing a mutually exclusive set of `if` statements can be very complex.\n",
    "\n",
    "In the previous code cell, try changing the `elif` to an `if`. Then answer the question with a \"Yes.\" You'll receive two responses! Why do you think that is?"
   ]
  },
  {
   "cell_type": "markdown",
   "metadata": {},
   "source": []
  }
 ],
 "metadata": {
  "kernelspec": {
   "display_name": "Python 3",
   "language": "python",
   "name": "python3"
  },
  "language_info": {
   "codemirror_mode": {
    "name": "ipython",
    "version": 3
   },
   "file_extension": ".py",
   "mimetype": "text/x-python",
   "name": "python",
   "nbconvert_exporter": "python",
   "pygments_lexer": "ipython3",
   "version": "3.10.8"
  },
  "toc": {
   "base_numbering": 1,
   "nav_menu": {},
   "number_sections": true,
   "sideBar": true,
   "skip_h1_title": true,
   "title_cell": "Table of Contents",
   "title_sidebar": "Contents",
   "toc_cell": false,
   "toc_position": {},
   "toc_section_display": true,
   "toc_window_display": false
  }
 },
 "nbformat": 4,
 "nbformat_minor": 4
}
